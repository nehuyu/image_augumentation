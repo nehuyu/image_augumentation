{
 "cells": [
  {
   "cell_type": "code",
   "execution_count": 175,
   "metadata": {},
   "outputs": [],
   "source": [
    "import os, sys\n",
    "import cv2\n",
    "import matplotlib.pyplot as plt\n",
    "%matplotlib inline\n",
    "\n",
    "import albumentations as albu\n",
    "from albumentations import Compose\n",
    "from albumentations.augmentations.transforms import (\n",
    "    HorizontalFlip, \n",
    "    VerticalFlip, \n",
    "    RGBShift, \n",
    "    ChannelShuffle,\n",
    "    RandomCrop,RandomRotate90,\n",
    "    HueSaturationValue)\n",
    "\n",
    "\n",
    "IMG_DIR = './src/'\n",
    "DST_DIR = './dst/'\n",
    "\n",
    "\n",
    "def get_compose():\n",
    "    crop_size = 128\n",
    "    return Compose([\n",
    "                    HorizontalFlip(p=0.5),\n",
    "                    VerticalFlip(p=0.5),\n",
    "                    RGBShift(),\n",
    "                    ChannelShuffle(),\n",
    "                    RandomCrop(crop_size,crop_size),\n",
    "                    RandomRotate90(),\n",
    "                    HueSaturationValue()\n",
    "                    ])\n",
    "\n",
    "compose = get_compose()\n",
    "\n",
    "for i in range(6):\n",
    "\n",
    "    img = cv2.imread(IMG_DIR + str(i+1) + '.jpg')\n",
    "    annotation = {'image': img}\n",
    "    for j in range(100):\n",
    "        img = compose(**annotation)[\"image\"]\n",
    "        cv2.imwrite(DST_DIR + str(i+1) + '.jpg/' + str(j) + \".jpg\", img)\n",
    "\n",
    "\n"
   ]
  }
 ],
 "metadata": {
  "kernelspec": {
   "display_name": "Python 3",
   "language": "python",
   "name": "python3"
  },
  "language_info": {
   "codemirror_mode": {
    "name": "ipython",
    "version": 3
   },
   "file_extension": ".py",
   "mimetype": "text/x-python",
   "name": "python",
   "nbconvert_exporter": "python",
   "pygments_lexer": "ipython3",
   "version": "3.7.4"
  }
 },
 "nbformat": 4,
 "nbformat_minor": 2
}
